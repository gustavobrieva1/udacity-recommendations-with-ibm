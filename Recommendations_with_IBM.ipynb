{
 "cells": [
  {
   "cell_type": "markdown",
   "metadata": {},
   "source": [
    "# Recommendation System Project: IBM Community\n",
    "\n",
    "In this notebook, you will be putting your recommendation skills to use on real data from the IBM Watson Studio platform. \n",
    "\n",
    "\n",
    "You may either submit your notebook through the workspace here, or you may work from your local machine and submit through the next page.  Either way assure that your code passes the project [RUBRIC](https://review.udacity.com/#!/rubrics/3325/view).  **Please save regularly.**\n",
    "\n",
    "By following the table of contents, you will build out a number of different methods for making recommendations that can be used for different situations. \n",
    "\n",
    "\n",
    "## Table of Contents\n",
    "\n",
    "I. [Exploratory Data Analysis](#Exploratory-Data-Analysis)<br>\n",
    "II. [Rank Based Recommendations](#Rank)<br>\n",
    "III. [User-User Based Collaborative Filtering](#User-User)<br>\n",
    "IV. [Content Based Recommendations](#Content-Recs)<br>\n",
    "V. [Matrix Factorization](#Matrix-Fact)<br>\n",
    "VI. [Extras & Concluding](#conclusions)\n",
    "\n",
    "At the end of the notebook, you will find directions for how to submit your work.  Let's get started by importing the necessary libraries and reading in the data."
   ]
  },
  {
   "cell_type": "code",
   "execution_count": null,
   "metadata": {},
   "outputs": [],
   "source": [
    "import pandas as pd\n",
    "import numpy as np\n",
    "import matplotlib.pyplot as plt\n",
    "import project_tests as t\n",
    "\n",
    "\n",
    "df = pd.read_csv(\n",
    "    'data/user-item-interactions.csv', \n",
    "    dtype={'article_id': int, 'title': str, 'email': str}\n",
    ")\n",
    "# Show df to get an idea of the data\n",
    "df.head()"
   ]
  },
  {
   "cell_type": "markdown",
   "metadata": {},
   "source": [
    "### <a class=\"anchor\" id=\"Exploratory-Data-Analysis\">Part I : Exploratory Data Analysis</a>\n",
    "\n",
    "Use the dictionary and cells below to provide some insight into the descriptive statistics of the data.\n",
    "\n",
    "`1.` Are there any missing values? If so, provide a count of missing values. If there are missing values in `email`, assign it the same id value `\"unknown_user\"`."
   ]
  },
  {
   "cell_type": "code",
   "execution_count": null,
   "metadata": {},
   "outputs": [],
   "source": [
    "# Some interactions do not have a user associated with it, assume the same user.\n",
    "df.info()"
   ]
  },
  {
   "cell_type": "code",
   "execution_count": null,
   "metadata": {},
   "outputs": [],
   "source": "print(f\"Number of Null email values is: {df.email.isna().sum()}\")"
  },
  {
   "cell_type": "code",
   "execution_count": null,
   "metadata": {},
   "outputs": [],
   "source": [
    "df[df.email.isna()]"
   ]
  },
  {
   "cell_type": "code",
   "execution_count": null,
   "metadata": {},
   "outputs": [],
   "source": "# Fill email NaNs with \"unknown_user\"\ndf['email'] = df['email'].fillna('unknown_user')"
  },
  {
   "cell_type": "code",
   "execution_count": null,
   "metadata": {},
   "outputs": [],
   "source": [
    "# Check if no more NaNs \n",
    "df[df.email.isna()]"
   ]
  },
  {
   "cell_type": "markdown",
   "metadata": {},
   "source": [
    "`2.` What is the distribution of how many articles a user interacts with in the dataset?  Provide a visual and descriptive statistics to assist with giving a look at the number of times each user interacts with an article."
   ]
  },
  {
   "cell_type": "code",
   "execution_count": null,
   "metadata": {},
   "outputs": [],
   "source": "# What are the descriptive statistics of the number of articles a user interacts with?\nuser_interactions = df.groupby('email').size()\nprint(\"Descriptive statistics for number of articles per user:\")\nprint(user_interactions.describe())"
  },
  {
   "cell_type": "code",
   "execution_count": null,
   "metadata": {},
   "outputs": [],
   "source": "# Create a plot of the number of articles read by each user\nuser_interactions = df.groupby('email').size()\nplt.figure(figsize=(12, 6))\nplt.hist(user_interactions, bins=50, edgecolor='black', alpha=0.7)\nplt.xlabel('Number of articles')\nplt.ylabel('Number of users')\nplt.title('Distribution of Articles Read by Each User')\nplt.show()\n\nprint(f\"Users reading 1 article: {(user_interactions == 1).sum()}\")\nprint(f\"Users reading 2-5 articles: {((user_interactions >= 2) & (user_interactions <= 5)).sum()}\")\nprint(f\"Users reading more than 10 articles: {(user_interactions > 10).sum()}\")"
  },
  {
   "cell_type": "code",
   "execution_count": null,
   "metadata": {},
   "outputs": [],
   "source": "# Create a plot of the number of times each article was read\narticle_interactions = df.groupby('article_id').size()\nplt.figure(figsize=(12, 6))\nplt.hist(article_interactions, bins=50, edgecolor='black', alpha=0.7)\nplt.xlabel('Number of users')\nplt.ylabel('Number of articles')\nplt.title('Distribution of Article Usage (How Many Users Read Each Article)')\nplt.show()\n\nprint(f\"Articles read by 1 user: {(article_interactions == 1).sum()}\")\nprint(f\"Articles read by 2-10 users: {((article_interactions >= 2) & (article_interactions <= 10)).sum()}\")\nprint(f\"Articles read by more than 50 users: {(article_interactions > 50).sum()}\")"
  },
  {
   "cell_type": "code",
   "execution_count": null,
   "metadata": {},
   "outputs": [],
   "source": "# Fill in the median and maximum number of user_article interactions below\nuser_interactions = df.groupby('email').size()\n\nmedian_val = user_interactions.median()  # 50% of individuals interact with ____ number of articles or fewer.\nmax_views_by_user = user_interactions.max()  # The maximum number of user-article interactions by any 1 user is ______.\n\nprint(f\"Median interactions per user: {median_val}\")\nprint(f\"Maximum interactions by any user: {max_views_by_user}\")"
  },
  {
   "cell_type": "markdown",
   "metadata": {},
   "source": [
    "`3.` Use the cells below to find:\n",
    "\n",
    "**a.** The number of unique articles that have an interaction with a user.  \n",
    "**b.** The number of unique articles in the dataset (whether they have any interactions or not).<br>\n",
    "**c.** The number of unique users in the dataset. (excluding null values) <br>\n",
    "**d.** The number of user-article interactions in the dataset."
   ]
  },
  {
   "cell_type": "code",
   "execution_count": null,
   "metadata": {},
   "outputs": [],
   "source": "unique_articles = df['article_id'].nunique()  # The number of unique articles that have at least one interaction\ntotal_articles = df['article_id'].nunique()  # The number of unique articles on the IBM platform (same as unique_articles in this dataset)\nunique_users = df['email'].nunique()  # The number of unique users\nuser_article_interactions = len(df)  # The number of user-article interactions\n\nprint(f\"Unique articles with interactions: {unique_articles}\")\nprint(f\"Total articles on platform: {total_articles}\")\nprint(f\"Unique users: {unique_users}\")\nprint(f\"Total user-article interactions: {user_article_interactions}\")"
  },
  {
   "cell_type": "markdown",
   "metadata": {},
   "source": [
    "`4.` Use the cells below to find the most viewed **article_id**, as well as how often it was viewed.  After talking to the company leaders, the `email_mapper` function was deemed a reasonable way to map users to ids.  There were a small number of null values, and it was found that all of these null values likely belonged to a single user (which is how they are stored using the function below)."
   ]
  },
  {
   "cell_type": "code",
   "execution_count": null,
   "metadata": {},
   "outputs": [],
   "source": "article_views = df['article_id'].value_counts()\nmost_viewed_article_id = str(article_views.index[0])  # The most viewed article in the dataset as a string with one value following the decimal \nmax_views = article_views.iloc[0]  # The most viewed article in the dataset was viewed how many times?\n\nprint(f\"Most viewed article ID: {most_viewed_article_id}\")\nprint(f\"Most viewed article was viewed: {max_views} times\")\nprint(f\"Article title: {df[df.article_id == float(most_viewed_article_id)]['title'].iloc[0]}\")"
  },
  {
   "cell_type": "code",
   "execution_count": null,
   "metadata": {},
   "outputs": [],
   "source": [
    "## No need to change the code here - this will be helpful for later parts of the notebook\n",
    "# Run this cell to map the user email to a user_id column and remove the email column\n",
    "\n",
    "def email_mapper(df=df):\n",
    "    coded_dict = {\n",
    "        email: num \n",
    "        for num, email in enumerate(df['email'].unique(), start=1)\n",
    "    }\n",
    "    return [coded_dict[val] for val in df['email']]\n",
    "\n",
    "df['user_id'] = email_mapper(df)\n",
    "del df['email']\n",
    "\n",
    "# show header\n",
    "df.head()"
   ]
  },
  {
   "cell_type": "code",
   "execution_count": null,
   "metadata": {},
   "outputs": [],
   "source": [
    "## If you stored all your results in the variable names above, \n",
    "## you shouldn't need to change anything in this cell\n",
    "\n",
    "sol_1_dict = {\n",
    "    '`50% of individuals have _____ or fewer interactions.`': median_val,\n",
    "    '`The total number of user-article interactions in the dataset is ______.`': user_article_interactions,\n",
    "    '`The maximum number of user-article interactions by any 1 user is ______.`': max_views_by_user,\n",
    "    '`The most viewed article in the dataset was viewed _____ times.`': max_views,\n",
    "    '`The article_id of the most viewed article is ______.`': most_viewed_article_id,\n",
    "    '`The number of unique articles that have at least 1 rating ______.`': unique_articles,\n",
    "    '`The number of unique users in the dataset is ______`': unique_users,\n",
    "    '`The number of unique articles on the IBM platform`': total_articles\n",
    "}\n",
    "\n",
    "# Test your dictionary against the solution\n",
    "t.sol_1_test(sol_1_dict)"
   ]
  },
  {
   "cell_type": "markdown",
   "metadata": {},
   "source": [
    "### <a class=\"anchor\" id=\"Rank\">Part II: Rank-Based Recommendations</a>\n",
    "\n",
    "In this project, we don't actually have ratings for whether a user liked an article or not.  We only know that a user has interacted with an article. In these cases, the popularity of an article can really only be based on how often an article was interacted with.\n",
    "\n",
    "`1.` Fill in the function below to return the **n** top articles ordered with most interactions as the top. Test your function using the tests below."
   ]
  },
  {
   "cell_type": "code",
   "execution_count": null,
   "metadata": {},
   "outputs": [],
   "source": "def get_top_articles(n, df=df):\n    \"\"\"\n    INPUT:\n    n - (int) the number of top articles to return\n    df - (pandas dataframe) df as defined at the top of the notebook \n    \n    OUTPUT:\n    top_articles - (list) A list of the top 'n' article titles \n    \n    \"\"\"\n    # Count interactions per article and get top n\n    article_counts = df['article_id'].value_counts()\n    top_article_ids = article_counts.head(n).index.tolist()\n    \n    # Get corresponding titles\n    top_articles = []\n    for article_id in top_article_ids:\n        title = df[df['article_id'] == article_id]['title'].iloc[0]\n        top_articles.append(title)\n    \n    return top_articles # Return the top article titles from df\n\ndef get_top_article_ids(n, df=df):\n    \"\"\"\n    INPUT:\n    n - (int) the number of top articles to return\n    df - (pandas dataframe) df as defined at the top of the notebook \n    \n    OUTPUT:\n    top_articles - (list) A list of the top 'n' article ids \n    \n    \"\"\"\n    # Count interactions per article and get top n article IDs\n    article_counts = df['article_id'].value_counts()\n    top_articles = article_counts.head(n).index.tolist()\n    \n    return top_articles # Return the top article ids"
  },
  {
   "cell_type": "code",
   "execution_count": null,
   "metadata": {},
   "outputs": [],
   "source": [
    "print(get_top_articles(10))\n",
    "print(get_top_article_ids(10))"
   ]
  },
  {
   "cell_type": "code",
   "execution_count": null,
   "metadata": {},
   "outputs": [],
   "source": [
    "# Test your function by returning the top 5, 10, and 20 articles\n",
    "top_5 = get_top_articles(5)\n",
    "top_10 = get_top_articles(10)\n",
    "top_20 = get_top_articles(20)\n",
    "\n",
    "# Test each of your three lists from above\n",
    "t.sol_2_test(get_top_articles)"
   ]
  },
  {
   "cell_type": "markdown",
   "metadata": {},
   "source": [
    "### <a class=\"anchor\" id=\"User-User\">Part III: User-User Based Collaborative Filtering</a>\n",
    "\n",
    "\n",
    "`1.` Use the function below to reformat the **df** dataframe to be shaped with users as the rows and articles as the columns.  \n",
    "\n",
    "* Each **user** should only appear in each **row** once.\n",
    "\n",
    "\n",
    "* Each **article** should only show up in one **column**.  \n",
    "\n",
    "\n",
    "* **If a user has interacted with an article, then place a 1 where the user-row meets for that article-column**.  It does not matter how many times a user has interacted with the article, all entries where a user has interacted with an article should be a 1.  \n",
    "\n",
    "\n",
    "* **If a user has not interacted with an item, then place a zero where the user-row meets for that article-column**. \n",
    "\n",
    "Use the tests to make sure the basic structure of your matrix matches what is expected by the solution."
   ]
  },
  {
   "cell_type": "code",
   "execution_count": null,
   "metadata": {},
   "outputs": [],
   "source": "# create the user-article matrix with 1's and 0's\n\ndef create_user_item_matrix(df, fill_value=0):\n    \"\"\"\n    INPUT:\n    df - pandas dataframe with article_id, title, user_id columns\n    \n    OUTPUT:\n    user_item - user item matrix \n    \n    Description:\n    Return a matrix with user ids as rows and article ids on the columns with 1 values where a user interacted with \n    an article and a 0 otherwise\n    \"\"\"\n    # Create a DataFrame with user_id, article_id, and interaction (1)\n    df_interactions = df[['user_id', 'article_id']].drop_duplicates()\n    df_interactions['interaction'] = 1\n    \n    # Create pivot table with user_id as rows, article_id as columns\n    user_item = df_interactions.pivot_table(index='user_id', \n                                           columns='article_id', \n                                           values='interaction', \n                                           fill_value=fill_value)\n    \n    return user_item # return the user_item matrix \n\nuser_item = create_user_item_matrix(df)"
  },
  {
   "cell_type": "code",
   "execution_count": null,
   "metadata": {},
   "outputs": [],
   "source": [
    "## Tests: You should just need to run this cell.  Don't change the code.\n",
    "assert user_item.shape[0] == 5149, \"Oops!  The number of users in the user-article matrix doesn't look right.\"\n",
    "assert user_item.shape[1] == 714, \"Oops!  The number of articles in the user-article matrix doesn't look right.\"\n",
    "assert user_item.sum(axis=1)[1] == 36, \"Oops!  The number of articles seen by user 1 doesn't look right.\"\n",
    "print(\"You have passed our quick tests!  Please proceed!\")"
   ]
  },
  {
   "cell_type": "markdown",
   "metadata": {},
   "source": [
    "`2.` Complete the function below which should take a user_id and provide an ordered list of the most similar users to that user (from most similar to least similar).  The returned result should not contain the provided user_id, as we know that each user is similar to him/herself. Because the results for each user here are binary, it (perhaps) makes sense to compute similarity as the dot product of two users. \n",
    "\n",
    "Use the tests to test your function."
   ]
  },
  {
   "cell_type": "code",
   "execution_count": null,
   "metadata": {},
   "outputs": [],
   "source": [
    "# Lets use the cosine_similarity function from sklearn\n",
    "from sklearn.metrics.pairwise import cosine_similarity"
   ]
  },
  {
   "cell_type": "code",
   "execution_count": null,
   "metadata": {},
   "outputs": [],
   "source": "def find_similar_users(user_id, user_item=user_item, include_similarity=False):\n    \"\"\"\n    INPUT:\n    user_id - (int) a user_id\n    user_item - (pandas dataframe) matrix of users by articles: \n                1's when a user has interacted with an article, 0 otherwise\n    include_similarity - (bool) whether to include the similarity in the output\n    \n    OUTPUT:\n    similar_users - (list) an ordered list where the closest users (largest dot product users)\n                    are listed first\n    \n    Description:\n    Computes the similarity of every pair of users based on the dot product\n    Returns an ordered list of user ids. If include_similarity is True, returns a list of lists\n    where the first element is the user id and the second the similarity.\n    \n    \"\"\"\n    \n    # compute similarity of each user to the provided user using cosine similarity\n    user_similarities = cosine_similarity(user_item.loc[[user_id]], user_item)[0]\n\n    # sort by similarity (descending order)\n    user_indices = user_item.index.tolist()\n    similarity_pairs = list(zip(user_indices, user_similarities))\n    similarity_pairs.sort(key=lambda x: x[1], reverse=True)\n    \n    # remove the own user's id\n    similarity_pairs = [pair for pair in similarity_pairs if pair[0] != user_id]\n    \n    # create list of just the ids\n    most_similar_users = [pair[0] for pair in similarity_pairs]\n    \n    # create list of just the similarities  \n    similarities = [pair[1] for pair in similarity_pairs]\n    \n    if include_similarity:\n        return [[user_id, sim] for user_id, sim in similarity_pairs] # return a list of lists with [[similar_user_id, similarity], ...]\n    return most_similar_users # return a list of the users in order from most to least similar\n        "
  },
  {
   "cell_type": "code",
   "execution_count": null,
   "metadata": {},
   "outputs": [],
   "source": [
    "# Do a spot check of your function\n",
    "print(\"The 10 most similar users to user 1 are: {}\".format(find_similar_users(1)[:10]))\n",
    "print(\"The 5 most similar users to user 3933 are: {}\".format(find_similar_users(3933)[:5]))\n",
    "print(\"The 3 most similar users to user 46 are: {}\".format(find_similar_users(46)[:3]))"
   ]
  },
  {
   "cell_type": "markdown",
   "metadata": {},
   "source": [
    "`3.` Now that you have a function that provides the most similar users to each user, you will want to use these users to find articles you can recommend.  Complete the functions below to return the articles you would recommend to each user. "
   ]
  },
  {
   "cell_type": "code",
   "execution_count": null,
   "metadata": {},
   "outputs": [],
   "source": "def get_article_names(article_ids, df=df):\n    \"\"\"\n    INPUT:\n    article_ids - (list) a list of article ids\n    df - (pandas dataframe) df as defined at the top of the notebook\n    \n    OUTPUT:\n    article_names - (list) a list of article names associated with the list of article ids \n                    (this is identified by the title column in df)\n    \"\"\"\n    article_names = []\n    for article_id in article_ids:\n        title = df[df['article_id'] == article_id]['title'].iloc[0]\n        article_names.append(title)\n    \n    return article_names # Return the article names associated with list of article ids\n\ndef get_ranked_article_unique_counts(article_ids, user_item=user_item):\n    \"\"\"\n    INPUT:\n    article_ids - (list) a list of article ids\n    user_item - (pandas dataframe) matrix of users by articles: \n                1's when a user has interacted with an article, 0 otherwise \n    \n    OUTPUT:\n    ranked_article_unique_counts - (list) a list of tuples with article_id and number of \n                     unique users that have interacted with the article, sorted\n                     by the number of unique users in descending order\n    \n    Description:\n    Provides a list of the article_ids and the number of unique users that have\n    interacted with the article using the user_item matrix, sorted by the number\n    of unique users in descending order\n    \"\"\"\n    article_counts = []\n    for article_id in article_ids:\n        if article_id in user_item.columns:\n            # Count number of users who interacted with this article (sum of 1's in column)\n            count = user_item[article_id].sum()\n            article_counts.append([article_id, count])\n    \n    # Sort by count in descending order\n    ranked_article_unique_counts = sorted(article_counts, key=lambda x: x[1], reverse=True)\n    \n    return ranked_article_unique_counts\n\n\ndef get_user_articles(user_id, user_item=user_item):\n    \"\"\"\n    INPUT:\n    user_id - (int) a user id\n    user_item - (pandas dataframe) matrix of users by articles: \n                1's when a user has interacted with an article, 0 otherwise\n    \n    OUTPUT:\n    article_ids - (list) a list of the article ids seen by the user\n    article_names - (list) a list of article names associated with the list of article ids \n                    (this is identified by the title column in df)\n    \n    Description:\n    Provides a list of the article_ids and article titles that have been seen by a user\n    \"\"\"\n    # Get articles user has interacted with (where value is 1)\n    user_articles = user_item.loc[user_id]\n    article_ids = user_articles[user_articles == 1].index.tolist()\n    \n    # Get article names\n    article_names = get_article_names(article_ids)\n    \n    return article_ids, article_names # return the ids and names\n\n\ndef user_user_recs(user_id, m=10):\n    \"\"\"\n    INPUT:\n    user_id - (int) a user id\n    m - (int) the number of recommendations you want for the user\n    \n    OUTPUT:\n    recs - (list) a list of recommendations for the user\n    \n    Description:\n    Loops through the users based on closeness to the input user_id\n    For each user - finds articles the user hasn't seen before and provides them as recs\n    Does this until m recommendations are found\n    \n    Notes:\n    Users who are the same closeness are chosen arbitrarily as the 'next' user\n    \n    For the user where the number of recommended articles starts below m \n    and ends exceeding m, the last items are chosen arbitrarily\n    \n    \"\"\"\n    # Get similar users\n    similar_users = find_similar_users(user_id)\n    \n    # Get articles user has already seen\n    user_articles, _ = get_user_articles(user_id)\n    user_articles_set = set(user_articles)\n    \n    recs = []\n    \n    # Loop through similar users\n    for similar_user in similar_users:\n        if len(recs) >= m:\n            break\n            \n        # Get articles this similar user has seen\n        similar_user_articles, _ = get_user_articles(similar_user)\n        \n        # Find articles this user hasn't seen\n        for article in similar_user_articles:\n            if article not in user_articles_set and article not in recs:\n                recs.append(article)\n                if len(recs) >= m:\n                    break\n    \n    return recs[:m] # return your recommendations for this user_id    "
  },
  {
   "cell_type": "code",
   "execution_count": null,
   "metadata": {},
   "outputs": [],
   "source": [
    "# Check Results\n",
    "get_article_names(user_user_recs(1, 10)) # Return 10 recommendations for user 1"
   ]
  },
  {
   "cell_type": "code",
   "execution_count": null,
   "metadata": {},
   "outputs": [],
   "source": [
    "get_ranked_article_unique_counts([1320, 232, 844])"
   ]
  },
  {
   "cell_type": "code",
   "execution_count": null,
   "metadata": {},
   "outputs": [],
   "source": [
    "# Test your functions here - No need to change this code - just run this cell\n",
    "assert set(get_article_names([1024, 1176, 1305, 1314, 1422, 1427])) == set(['using deep learning to reconstruct high-resolution audio', 'build a python app on the streaming analytics service', 'gosales transactions for naive bayes model', 'healthcare python streaming application demo', 'use r dataframes & ibm watson natural language understanding', 'use xgboost, scikit-learn & ibm watson machine learning apis']), \"Oops! Your the get_article_names function doesn't work quite how we expect.\"\n",
    "assert set(get_article_names([1320, 232, 844])) == set(['housing (2015): united states demographic measures','self-service data preparation with ibm data refinery','use the cloudant-spark connector in python notebook']), \"Oops! Your the get_article_names function doesn't work quite how we expect.\"\n",
    "assert set(get_user_articles(20)[0]) == set([1320, 232, 844])\n",
    "assert set(get_user_articles(20)[1]) == set(['housing (2015): united states demographic measures', 'self-service data preparation with ibm data refinery','use the cloudant-spark connector in python notebook'])\n",
    "assert set(get_user_articles(2)[0]) == set([1024, 1176, 1305, 1314, 1422, 1427])\n",
    "assert set(get_user_articles(2)[1]) == set(['using deep learning to reconstruct high-resolution audio', 'build a python app on the streaming analytics service', 'gosales transactions for naive bayes model', 'healthcare python streaming application demo', 'use r dataframes & ibm watson natural language understanding', 'use xgboost, scikit-learn & ibm watson machine learning apis'])\n",
    "assert get_ranked_article_unique_counts([1320, 232, 844])[0] == [1320, 123], \"Oops! Your the get_ranked_article_unique_counts function doesn't work quite how we expect.\\nMake sure you are using the user_item matrix to create the article counts.\"\n",
    "print(\"If this is all you see, you passed all of our tests!  Nice job!\")"
   ]
  },
  {
   "cell_type": "markdown",
   "metadata": {},
   "source": [
    "`4.` Now we are going to improve the consistency of the **user_user_recs** function from above.  \n",
    "\n",
    "* Instead of arbitrarily choosing when we obtain users who are all the same closeness to a given user - choose the users that have the most total article interactions before choosing those with fewer article interactions.\n",
    "\n",
    "\n",
    "* Instead of arbitrarily choosing articles from the user where the number of recommended articles starts below m and ends exceeding m, choose articles with the articles with the most total interactions before choosing those with fewer total interactions. This ranking should be  what would be obtained from the **top_articles** function you wrote earlier."
   ]
  },
  {
   "cell_type": "code",
   "execution_count": null,
   "metadata": {},
   "outputs": [],
   "source": "def get_top_sorted_users(user_id, user_item=user_item):\n    \"\"\"\n    INPUT:\n    user_id - (int)\n    user_item - (pandas dataframe) matrix of users by articles: \n            1's when a user has interacted with an article, 0 otherwise\n    \n            \n    OUTPUT:\n    neighbors_df - (pandas dataframe) a dataframe with:\n                    neighbor_id - is a neighbor user_id\n                    similarity - measure of the similarity of each user to the provided user_id\n                    num_interactions - the number of articles viewed by the user\n                    \n    Other Details - sort the neighbors_df by the similarity and then by number of interactions where \n                    highest of each is higher in the dataframe, i.e. Descending order\n     \n    \"\"\"\n    # Find similar users with similarity scores\n    similar_users_with_sim = find_similar_users(user_id, user_item=user_item, include_similarity=True)\n    \n    # Create lists for DataFrame\n    neighbor_ids = []\n    similarities = []\n    num_interactions = []\n    \n    for user_sim_pair in similar_users_with_sim:\n        neighbor_id = user_sim_pair[0]\n        similarity = user_sim_pair[1]\n        \n        # Count interactions for this user (sum of 1's in their row)\n        interactions = user_item.loc[neighbor_id].sum()\n        \n        neighbor_ids.append(neighbor_id)\n        similarities.append(similarity)\n        num_interactions.append(interactions)\n    \n    # Create DataFrame\n    neighbors_df = pd.DataFrame({\n        'neighbor_id': neighbor_ids,\n        'similarity': similarities,\n        'num_interactions': num_interactions\n    })\n    \n    # Sort by similarity (descending) then by num_interactions (descending)\n    neighbors_df = neighbors_df.sort_values(['similarity', 'num_interactions'], ascending=[False, False])\n    \n    return neighbors_df # Return the dataframe specified in the doc_string\n\n\ndef user_user_recs_part2(user_id, m=10):\n    \"\"\"\n    INPUT:\n    user_id - (int) a user id\n    m - (int) the number of recommendations you want for the user\n    \n    OUTPUT:\n    recs - (list) a list of recommendations for the user by article id\n    rec_names - (list) a list of recommendations for the user by article title\n    \n    Description:\n    Loops through the users based on closeness to the input user_id\n    For each user - finds articles the user hasn't seen before and provides them as recs\n    Does this until m recommendations are found\n    \n    Notes:\n    * Choose the users that have the most total article interactions \n    before choosing those with fewer article interactions.\n\n    * Choose articles with the articles with the most total interactions \n    before choosing those with fewer total interactions. \n   \n    \"\"\"\n    # Get sorted similar users (by similarity then interactions)\n    neighbors_df = get_top_sorted_users(user_id)\n    \n    # Get articles user has already seen\n    user_articles, _ = get_user_articles(user_id)\n    user_articles_set = set(user_articles)\n    \n    # Collect all potential recommendations from similar users\n    potential_recs = []\n    \n    for _, neighbor_row in neighbors_df.iterrows():\n        neighbor_id = neighbor_row['neighbor_id']\n        \n        # Get articles this neighbor has seen\n        neighbor_articles, _ = get_user_articles(neighbor_id)\n        \n        # Add unseen articles to potential recommendations\n        for article in neighbor_articles:\n            if article not in user_articles_set and article not in potential_recs:\n                potential_recs.append(article)\n    \n    # Rank potential recommendations by their popularity (total interactions)\n    if potential_recs:\n        ranked_recs = get_ranked_article_unique_counts(potential_recs)\n        # Extract just the article IDs in order of popularity\n        recs = [article_id for article_id, count in ranked_recs][:m]\n    else:\n        # Fallback to top articles if no recommendations found\n        recs = get_top_article_ids(m)[:m]\n    \n    return recs, get_article_names(recs) # return your recommendations for this user_id"
  },
  {
   "cell_type": "code",
   "execution_count": null,
   "metadata": {},
   "outputs": [],
   "source": [
    "# Quick spot check - don't change this code - just use it to test your functions\n",
    "rec_ids, rec_names = user_user_recs_part2(20, 10)\n",
    "print(\"The top 10 recommendations for user 20 are the following article ids:\")\n",
    "print(rec_ids)\n",
    "print()\n",
    "print(\"The top 10 recommendations for user 20 are the following article names:\")\n",
    "print(rec_names)"
   ]
  },
  {
   "cell_type": "markdown",
   "metadata": {},
   "source": [
    "`5.` Use your functions from above to correctly fill in the solutions to the dictionary below.  Then test your dictionary against the solution.  Provide the code you need to answer each following the comments below."
   ]
  },
  {
   "cell_type": "code",
   "execution_count": null,
   "metadata": {},
   "outputs": [],
   "source": [
    "print(get_top_sorted_users(1, user_item=user_item).head(n=1))\n",
    "print(get_top_sorted_users(2, user_item=user_item).head(n=10))\n",
    "print(get_top_sorted_users(131, user_item=user_item).head(n=10))"
   ]
  },
  {
   "cell_type": "code",
   "execution_count": null,
   "metadata": {},
   "outputs": [],
   "source": "### Tests with a dictionary of results\nuser1_most_sim = get_top_sorted_users(1, user_item=user_item).iloc[0]['neighbor_id'] # Find the user that is most similar to user 1 \nuser2_6th_sim = get_top_sorted_users(2, user_item=user_item).iloc[5]['neighbor_id'] # Find the 6th most similar user to user 2\nuser131_10th_sim = get_top_sorted_users(131, user_item=user_item).iloc[9]['neighbor_id'] # Find the 10th most similar user to user 131"
  },
  {
   "cell_type": "code",
   "execution_count": null,
   "metadata": {},
   "outputs": [],
   "source": [
    "## Dictionary Test Here\n",
    "sol_5_dict = {\n",
    "    'The user that is most similar to user 1.': user1_most_sim, \n",
    "    'The user that is the 6th most similar to user 2.': user2_6th_sim,\n",
    "    'The user that is the 10th most similar to user 131.': user131_10th_sim,\n",
    "}\n",
    "\n",
    "t.sol_5_test(sol_5_dict)"
   ]
  },
  {
   "cell_type": "markdown",
   "metadata": {},
   "source": [
    "`6.` If we were given a new user, which of the above functions would you be able to use to make recommendations?  Explain.  Can you think of a better way we might make recommendations?  Use the cell below to explain a better method for new users."
   ]
  },
  {
   "cell_type": "markdown",
   "metadata": {},
   "source": "**Answer:**\n\nFor new users with no interaction history, we cannot use user-user collaborative filtering because there's no data to compute similarities with other users. \n\nThe best approach for new users is to use **rank-based recommendations** - recommend the most popular articles that have the most interactions overall. This provides a reasonable starting point based on community preferences.\n\nOnce new users start interacting with articles, we can begin using collaborative filtering to find similar users and make personalized recommendations. This is known as the \"cold start\" problem in recommendation systems."
  },
  {
   "cell_type": "markdown",
   "metadata": {},
   "source": [
    "`7.` Using your existing functions, provide the top 10 recommended articles you would provide for the a new user below.  You can test your function against our thoughts to make sure we are all on the same page with how we might make a recommendation."
   ]
  },
  {
   "cell_type": "code",
   "execution_count": null,
   "metadata": {},
   "outputs": [],
   "source": "# What would your recommendations be for this new user 0?  As a new user, they have no observed articles.\n# Provide a list of the top 10 article ids you would give to \nnew_user_recs = get_top_article_ids(10) # Your recommendations here"
  },
  {
   "cell_type": "code",
   "execution_count": null,
   "metadata": {},
   "outputs": [],
   "source": [
    "assert set(new_user_recs) == {1314, 1429, 1293, 1427, 1162, 1364, 1304, 1170, 1431, 1330}, \"Oops!  It makes sense that in this case we would want to recommend the most popular articles, because we don't know anything about these users.\"\n",
    "\n",
    "print(\"That's right!  Nice job!\")"
   ]
  },
  {
   "cell_type": "markdown",
   "metadata": {},
   "source": [
    "### <a class=\"anchor\" id=\"Content-Recs\">Part IV: Content Based Recommendations</a>\n",
    "\n",
    "Another method we might use to make recommendations is to recommend similar articles that are possibly related. One way we can find article relationships is by clustering text about those articles.  Let's consider content to be the article **title**, as it is the only text we have available. One point to highlight, there isn't one way to create a content based recommendation, especially considering that text information can be processed in many ways.  \n",
    "\n",
    "`1.` Use the function bodies below to create a content based recommender function `make_content_recs`. We'll use TF-IDF to create a matrix based off article titles, and use this matrix to create clusters of related articles. You can use this function to make recommendations of new articles."
   ]
  },
  {
   "cell_type": "code",
   "execution_count": null,
   "metadata": {},
   "outputs": [],
   "source": [
    "df.head()"
   ]
  },
  {
   "cell_type": "code",
   "execution_count": null,
   "metadata": {},
   "outputs": [],
   "source": [
    "from sklearn.cluster import KMeans\n",
    "from sklearn.feature_extraction.text import TfidfVectorizer\n",
    "from sklearn.pipeline import make_pipeline\n",
    "from sklearn.preprocessing import Normalizer\n",
    "from sklearn.decomposition import TruncatedSVD"
   ]
  },
  {
   "cell_type": "code",
   "execution_count": null,
   "metadata": {},
   "outputs": [],
   "source": "# unique articles\ndf_unique_articles = df[['article_id', 'title']].drop_duplicates()"
  },
  {
   "cell_type": "code",
   "execution_count": null,
   "metadata": {},
   "outputs": [],
   "source": "# Create a vectorizer using TfidfVectorizer and fit it to the article titles\nmax_features = 200\nmax_df = 0.75\nmin_df = 5\n\nvectorizer = TfidfVectorizer(\n    max_df=max_df,\n    min_df=min_df,\n    stop_words=\"english\",\n    max_features=max_features,\n)\nprint(\"Running TF-IDF\")\nX_tfidf = vectorizer.fit_transform(df_unique_articles['title']) # Fit the vectorizer to the article titles\n\nprint(f\"n_samples: {X_tfidf.shape[0]}, n_features: {X_tfidf.shape[1]}\")\n\nlsa = make_pipeline(TruncatedSVD(n_components=50), Normalizer(copy=False))\nX_lsa = lsa.fit_transform(X_tfidf) # Fit the LSA model to the vectorized article titles\nexplained_variance = lsa[0].explained_variance_ratio_.sum()\n\nprint(f\"Explained variance of the SVD step: {explained_variance * 100:.1f}%\")"
  },
  {
   "cell_type": "code",
   "execution_count": null,
   "metadata": {},
   "outputs": [],
   "source": [
    "# Let's map the inertia for different number of clusters to find the optimal number of clusters\n",
    "# We'll plot it to see the elbow\n",
    "inertia = []\n",
    "clusters = 300\n",
    "step = 25\n",
    "max_iter = 50\n",
    "n_init = 5\n",
    "random_state = 42\n",
    "for k in range(1, clusters, step):\n",
    "    kmeans = KMeans(\n",
    "        n_clusters=k,\n",
    "        max_iter=max_iter,\n",
    "        n_init=n_init,\n",
    "        random_state=random_state,\n",
    "    ).fit(X_lsa)\n",
    "    # inertia is the sum of squared distances to the closest cluster center\n",
    "    inertia.append(kmeans.inertia_)\n",
    "plt.plot(range(1, clusters, step), inertia)\n",
    "plt.xlabel('Number of clusters')"
   ]
  },
  {
   "cell_type": "markdown",
   "metadata": {},
   "source": [
    "There appears to be an elbow about 50, so we'll use 50 clusters."
   ]
  },
  {
   "cell_type": "code",
   "execution_count": null,
   "metadata": {},
   "outputs": [],
   "source": "n_clusters = 50 # Number of clusters\nkmeans = KMeans(\n    n_clusters=n_clusters,\n    max_iter=max_iter,\n    n_init=n_init,\n    random_state=random_state,\n).fit(X_lsa)"
  },
  {
   "cell_type": "code",
   "execution_count": null,
   "metadata": {},
   "outputs": [],
   "source": "# create a new column `title_cluster` and assign it the kmeans cluster labels\n# First we need to map the labels to df_unique_articles article ids and then apply those to df\narticle_cluster_map = dict(zip(df_unique_articles['article_id'], kmeans.labels_)) # Map article_id to cluster label\ndf['title_cluster'] = df['article_id'].map(article_cluster_map) # apply map to create title clusters"
  },
  {
   "cell_type": "code",
   "execution_count": null,
   "metadata": {},
   "outputs": [],
   "source": [
    "# Let's check the number of articles in each cluster\n",
    "np.array(np.unique(kmeans.labels_, return_counts=True)).T"
   ]
  },
  {
   "cell_type": "code",
   "execution_count": null,
   "metadata": {},
   "outputs": [],
   "source": "def get_similar_articles(article_id, df=df):\n    \"\"\"\n    INPUT:\n    article_id - (int) an article id \n    df - (pandas dataframe) df as defined at the top of the notebook \n    \n    OUTPUT:\n    article_ids - (list) a list of article ids that are in the same title cluster\n    \n    Description:\n    Returns a list of the article ids that are in the same title cluster\n    \"\"\"\n    # Get the cluster for the input article\n    title_cluster = df[df['article_id'] == article_id]['title_cluster'].iloc[0]\n    \n    # Get all articles in the same cluster\n    articles_in_cluster = df[df['title_cluster'] == title_cluster]['article_id'].unique().tolist()\n    \n    # remove the input article_id from the list\n    articles_in_cluster = [aid for aid in articles_in_cluster if aid != article_id]\n    \n    return articles_in_cluster"
  },
  {
   "cell_type": "code",
   "execution_count": null,
   "metadata": {},
   "outputs": [],
   "source": "def make_content_recs(article_id, n, df=df):\n    \"\"\"\n    INPUT:\n    article_id - (int) an article id\n    n - (int) the number of recommendations you want similar to the article id\n    df - (pandas dataframe) df as defined at the top of the notebook\n    \n    OUTPUT:\n    n_ranked_similar_articles - (list) a list of article ids that are in the same title cluster ranked\n                                by popularity\n    n_ranked_article_names - (list) a list of article names associated with the list of article ids\n    \n    Description:\n    Returns a list of the n most ranked similar articles to a given article_id based on the title\n    cluster in df. Rank similar articles using the function get_ranked_article_unique_counts.\n    \"\"\"\n    # Get similar articles in the same cluster\n    similar_articles = get_similar_articles(article_id, df)\n    \n    # Rank them by popularity using our existing function\n    if similar_articles:\n        ranked_articles = get_ranked_article_unique_counts(similar_articles, user_item)\n        # Extract article IDs and limit to n\n        n_ranked_similar_articles = [article_id for article_id, count in ranked_articles][:n]\n        # Get article names\n        n_ranked_article_names = get_article_names(n_ranked_similar_articles, df)\n    else:\n        # If no similar articles found, return empty lists\n        n_ranked_similar_articles = []\n        n_ranked_article_names = []\n    \n    return n_ranked_similar_articles, n_ranked_article_names\n        "
  },
  {
   "cell_type": "code",
   "execution_count": null,
   "metadata": {},
   "outputs": [],
   "source": [
    "# Test out your content recommendations given artice_id 25\n",
    "rec_article_ids, rec_article_titles = make_content_recs(25, 10)\n",
    "print(rec_article_ids)\n",
    "print(rec_article_titles)"
   ]
  },
  {
   "cell_type": "code",
   "execution_count": null,
   "metadata": {},
   "outputs": [],
   "source": [
    "assert len({1025, 593, 349, 821, 464, 29, 1042, 693, 524, 352}.intersection(set(rec_article_ids))) > 0, \"Oops! Your the make_content_recs function doesn't work quite how we expect.\""
   ]
  },
  {
   "cell_type": "markdown",
   "metadata": {},
   "source": [
    "`2.` Now that you have put together your content-based recommendation system, use the cell below to write a summary explaining how your content based recommender works.  Do you see any possible improvements that could be made to your function? What other text data would be useful to help make better recommendations besides the article title?"
   ]
  },
  {
   "cell_type": "markdown",
   "metadata": {},
   "source": "**Content-Based Recommendation System Explanation:**\n\nOur content-based recommendation system works by analyzing the textual similarity between article titles using the following approach:\n\n1. **Text Preprocessing**: We use TF-IDF (Term Frequency-Inverse Document Frequency) vectorization to convert article titles into numerical feature vectors, removing common English stop words and limiting to 200 most important features.\n\n2. **Dimensionality Reduction**: We apply Truncated SVD (Latent Semantic Analysis) to reduce the feature space to 50 components, capturing the most important semantic patterns while reducing noise.\n\n3. **Clustering**: K-means clustering with 50 clusters groups articles with similar content themes together based on their reduced feature representations.\n\n4. **Recommendation Generation**: For a given article, we find all articles in the same cluster and rank them by popularity (number of user interactions).\n\n**Possible Improvements:**\n- **More Text Data**: Using article abstracts, descriptions, or full content would provide richer semantic understanding\n- **Advanced NLP**: Techniques like word embeddings (Word2Vec, GloVe) or transformer models (BERT) could capture deeper semantic relationships\n- **Hybrid Approach**: Combining content similarity with collaborative filtering scores for better recommendations\n- **Dynamic Clustering**: Periodically retraining clusters as new articles are added\n- **User Context**: Incorporating user preferences and reading history to personalize content recommendations\n\n**Additional Text Data That Would Help:**\n- Article abstracts or summaries\n- Article tags/categories\n- Author information\n- Full article content\n- User comments or reviews\n- Related topics or keywords"
  },
  {
   "cell_type": "markdown",
   "metadata": {},
   "source": [
    "### <a class=\"anchor\" id=\"Matrix-Fact\">Part V: Matrix Factorization</a>\n",
    "\n",
    "In this part of the notebook, you will build use matrix factorization to make article recommendations to users.\n",
    "\n",
    "`1.` You should have already created a **user_item** matrix above in **question 1** of **Part III** above.  This first question here will just require that you run the cells to get things set up for the rest of **Part V** of the notebook. "
   ]
  },
  {
   "cell_type": "code",
   "execution_count": null,
   "metadata": {},
   "outputs": [],
   "source": [
    "# quick look at the matrix\n",
    "user_item.head()"
   ]
  },
  {
   "cell_type": "markdown",
   "metadata": {},
   "source": [
    "`2.` In this situation, you can use Singular Value Decomposition from [scikit-learn](https://scikit-learn.org/stable/modules/generated/sklearn.decomposition.TruncatedSVD.html) on the user-item matrix.  Use the cell to perform SVD."
   ]
  },
  {
   "cell_type": "code",
   "execution_count": null,
   "metadata": {},
   "outputs": [],
   "source": [
    "from sklearn.decomposition import TruncatedSVD\n",
    "from sklearn.metrics import precision_score, recall_score, accuracy_score\n",
    "# Using the full number of components which equals the number of columns\n",
    "svd = TruncatedSVD(n_components=len(user_item.columns), n_iter=5, random_state=42)\n",
    "\n",
    "u = svd.fit_transform(user_item)\n",
    "v = svd.components_\n",
    "s = svd.singular_values_ \n",
    "print('u', u.shape)\n",
    "print('s', s.shape)\n",
    "print('vt', v.shape)"
   ]
  },
  {
   "cell_type": "markdown",
   "metadata": {},
   "source": [
    "`3.` Now for the tricky part, how do we choose the number of latent features to use?  Running the below cell, you can see that as the number of latent features increases, we obtain better metrics when making predictions for the 1 and 0 values in the user-item matrix.  Run the cell below to get an idea of how our metrics improve as we increase the number of latent features."
   ]
  },
  {
   "cell_type": "markdown",
   "metadata": {},
   "source": []
  },
  {
   "cell_type": "code",
   "execution_count": null,
   "metadata": {},
   "outputs": [],
   "source": [
    "num_latent_feats = np.arange(10, 700+10, 20)\n",
    "metric_scores = []\n",
    "\n",
    "for k in num_latent_feats:\n",
    "    # restructure with k latent features\n",
    "    u_new, vt_new = u[:, :k], v[:k, :]\n",
    "    \n",
    "    # take dot product\n",
    "    user_item_est = abs(np.around(np.dot(u_new, vt_new))).astype(int)\n",
    "    # make sure the values are between 0 and 1\n",
    "    user_item_est = np.clip(user_item_est, 0, 1)\n",
    "    \n",
    "    # total errors and keep track of them\n",
    "    acc = accuracy_score(user_item.values.flatten(), user_item_est.flatten())\n",
    "    precision = precision_score(user_item.values.flatten(), user_item_est.flatten())\n",
    "    recall = recall_score(user_item.values.flatten(), user_item_est.flatten())\n",
    "    metric_scores.append([acc, precision, recall])\n",
    "    \n",
    "    \n",
    "plt.plot(num_latent_feats, metric_scores, label=['Accuracy', 'Precision', 'Recall'])\n",
    "plt.legend()\n",
    "plt.xlabel('Number of Latent Features')\n",
    "plt.title('Metrics vs. Number of Latent Features')"
   ]
  },
  {
   "cell_type": "markdown",
   "metadata": {},
   "source": [
    "`4.` From the above, we can't really be sure how many features to use, because simply having a better way to predict the 1's and 0's of the matrix doesn't exactly give us an indication of if we are able to make good recommendations. Given the plot above, what would you pick for the number of latent features and why?"
   ]
  },
  {
   "cell_type": "markdown",
   "metadata": {},
   "source": "**Analysis of Optimal Latent Features:**\n\nBased on the metrics plot, I would choose approximately **200 latent features** for the following reasons:\n\n1. **Performance Plateau**: After around 150-200 features, the improvement in all metrics (accuracy, precision, recall) starts to plateau, with diminishing returns for additional features.\n\n2. **Computational Efficiency**: Using fewer features (200 vs 700) significantly reduces computational complexity while maintaining good performance.\n\n3. **Overfitting Prevention**: Too many latent features (approaching the full 714) might lead to overfitting, where the model memorizes the training data but doesn't generalize well.\n\n4. **Balanced Performance**: At 200 features, we achieve a good balance between all three metrics without heavily favoring one over the others.\n\n5. **Practical Considerations**: 200 features capture the most important patterns in user-article interactions while remaining interpretable and computationally manageable.\n\nThe goal is to find the \"elbow\" in the performance curve where additional complexity doesn't provide proportional benefits. Around 200 features appears to be this optimal point where we maximize recommendation quality while minimizing computational overhead."
  },
  {
   "cell_type": "markdown",
   "metadata": {},
   "source": [
    "`5.` Using 200 latent features and the values of U, S, and V transpose we calculated above, create an article id recommendation function that finds similar article ids to the one provide.\n",
    "\n",
    "Create a list of 10 recommendations that are similar to article with id 4.  The function should provide these recommendations by finding articles that have the most similar latent features as the provided article."
   ]
  },
  {
   "cell_type": "code",
   "execution_count": null,
   "metadata": {},
   "outputs": [],
   "source": "def get_svd_similar_article_ids(article_id, vt, user_item=user_item, include_similarity=False):\n    \"\"\"\n    INPUT:\n    article_id - (int) an article id\n    vt - (numpy array) vt matrix from SVD\n    user_item - (pandas dataframe) matrix of users by articles: \n                1's when a user has interacted with an article, 0 otherwise\n    include_similarity - (bool) whether to include the similarity in the output\n    \n    OUTPUT:\n    article_ids - (list) a list of article ids that are similar based on SVD factors\n    \n    Description:\n    Returns a list of the article ids similar using SVD factorization\n    \"\"\"\n    # Find the index of the article_id in user_item columns\n    article_idx = user_item.columns.tolist().index(article_id)\n    \n    # Find the cosine similarity of all articles\n    # Transpose vt to get a 714 x k matrix for cosine similarity\n    cos_sim = cosine_similarity(vt.T)\n    \n    # Get similarities only for the article_idx\n    similarities = cos_sim[article_idx]\n    \n    # Create pairs of (article_id, similarity) and sort by similarity\n    article_sim_pairs = list(zip(user_item.columns, similarities))\n    article_sim_pairs.sort(key=lambda x: x[1], reverse=True)\n    \n    # Remove the input article itself\n    article_sim_pairs = [pair for pair in article_sim_pairs if pair[0] != article_id]\n    \n    if include_similarity:\n        return [[int(aid), sim] for aid, sim in article_sim_pairs] # return a list of lists with [[similar_article_id, similarity], ...]\n    \n    most_similar_items = [int(aid) for aid, sim in article_sim_pairs]\n    return most_similar_items"
  },
  {
   "cell_type": "code",
   "execution_count": null,
   "metadata": {},
   "outputs": [],
   "source": [
    "# Create a vt_new matrix with 200 latent features\n",
    "k = 200\n",
    "vt_new = v[:k, :]"
   ]
  },
  {
   "cell_type": "code",
   "execution_count": null,
   "metadata": {},
   "outputs": [],
   "source": [
    "# What is the article name for article_id 4?\n",
    "print(\"Current article:\", get_article_names([4], df=df)[0])"
   ]
  },
  {
   "cell_type": "code",
   "execution_count": null,
   "metadata": {},
   "outputs": [],
   "source": [
    "# What are the top 10 most similar articles to article_id 4?\n",
    "rec_articles = get_svd_similar_article_ids(4, vt_new, user_item=user_item)[:10]\n",
    "rec_articles"
   ]
  },
  {
   "cell_type": "code",
   "execution_count": null,
   "metadata": {},
   "outputs": [],
   "source": [
    "# What are the top 10 most similar articles to article_id 4?\n",
    "get_article_names(rec_articles, df=df)"
   ]
  },
  {
   "cell_type": "code",
   "execution_count": null,
   "metadata": {},
   "outputs": [],
   "source": [
    "assert set(rec_articles) == {1199, 1068, 486, 1202, 176, 1120, 244, 793, 58, 132}, \"Oops! Your the get_svd_similar_article_ids function doesn't work quite how we expect.\"\n",
    "print(\"That's right!  Great job!\")"
   ]
  },
  {
   "cell_type": "markdown",
   "metadata": {
    "collapsed": true
   },
   "source": [
    "`6.` Use the cell below to comment on the results you found in the previous question. Given the circumstances of your results, discuss what you might do to determine if the recommendations you make above are an improvement to how users currently find articles, either by Sections 2, 3, or 4? Add any tradeoffs between each of the methods, and how you could leverage each type for different situations including new users with no history, recently new users with little history, and users with a lot of history. "
   ]
  },
  {
   "cell_type": "markdown",
   "metadata": {},
   "source": "**Analysis of SVD Matrix Factorization Results:**\n\nThe SVD-based recommendations for article 4 show promising results by identifying articles with similar latent feature patterns. However, to evaluate whether these recommendations are truly better than our previous methods, we need to consider several factors:\n\n**Comparison of Recommendation Methods:**\n\n1. **Rank-Based (Section 2)**: \n   - Pros: Simple, works for all users including new ones, based on proven popularity\n   - Cons: No personalization, ignores user preferences, same recommendations for everyone\n\n2. **User-User Collaborative Filtering (Section 3)**:\n   - Pros: Personalized based on similar users, leverages community wisdom\n   - Cons: Cold start problem, sparse data issues, computationally expensive\n\n3. **Content-Based (Section 4)**:\n   - Pros: Works with article features, no cold start for new articles, explainable\n   - Cons: Limited by available text data, may create filter bubbles, requires domain knowledge\n\n4. **Matrix Factorization (Section 5)**:\n   - Pros: Handles sparsity well, captures latent relationships, scalable\n   - Cons: Less interpretable, requires tuning, cold start for new users/items\n\n**Evaluation Strategy:**\n\nTo determine which method works best, I would implement:\n\n1. **A/B Testing**: Deploy different methods to user segments and measure engagement metrics\n2. **Offline Evaluation**: Use train/test splits to measure precision@k, recall@k, and NDCG\n3. **User Studies**: Survey users about recommendation relevance and satisfaction\n4. **Business Metrics**: Track click-through rates, time spent reading, and user retention\n\n**Recommendation Strategy by User Type:**\n\n- **New Users (no history)**: Use rank-based recommendations to provide popular, high-quality content\n- **Users with little history (1-5 interactions)**: Combine rank-based with content-based recommendations\n- **Users with moderate history (5-20 interactions)**: Use collaborative filtering with content-based fallbacks\n- **Power Users (20+ interactions)**: Use matrix factorization for sophisticated personalization\n\n**Testing Recommendation Quality:**\n\n1. **Precision/Recall**: Measure how many recommendations users actually interact with\n2. **Diversity**: Ensure recommendations aren't too narrow or repetitive  \n3. **Novelty**: Balance between safe popular choices and discovering new content\n4. **User Feedback**: Implement thumbs up/down to continuously improve\n5. **Long-term Engagement**: Track whether recommendations increase overall platform usage\n\nThe best approach would likely be a **hybrid system** that combines multiple methods based on data availability and user characteristics."
  },
  {
   "cell_type": "markdown",
   "metadata": {
    "collapsed": true
   },
   "source": [
    "<a id='conclusions'></a>\n",
    "### Extras\n",
    "Using your workbook, you could now save your recommendations for each user, develop a class to make new predictions and update your results, and make a flask app to deploy your results.  These tasks are beyond what is required for this project.  However, from what you learned in the lessons, you certainly capable of taking these tasks on to improve upon your work here!\n",
    "\n",
    "\n",
    "## Conclusion\n",
    "\n",
    "> Congratulations!  You have reached the end of the Recommendation Systems project! \n",
    "\n",
    "> **Tip**: Once you are satisfied with your work here, check over your report to make sure that it is satisfies all the areas of the [rubric](https://review.udacity.com/#!/rubrics/2322/view). You should also probably remove all of the \"Tips\" like this one so that the presentation is as polished as possible.\n",
    "\n",
    "\n",
    "## Directions to Submit\n",
    "\n",
    "> Before you submit your project, you need to create a .html or .pdf version of this notebook in the workspace here. To do that, run the code cell below. If it worked correctly, you should get a return code of 0, and you should see the generated .html file in the workspace directory (click on the orange Jupyter icon in the upper left).\n",
    "\n",
    "> Alternatively, you can download this report as .html via the **File** > **Download as** submenu, and then manually upload it into the workspace directory by clicking on the orange Jupyter icon in the upper left, then using the Upload button.\n",
    "\n",
    "> Once you've done this, you can submit your project by clicking on the \"Submit Project\" button in the lower right here. This will create and submit a zip file with this .ipynb doc and the .html or .pdf version you created. Congratulations! "
   ]
  },
  {
   "cell_type": "code",
   "execution_count": null,
   "metadata": {
    "collapsed": true
   },
   "outputs": [],
   "source": [
    "from subprocess import call\n",
    "call(['python', '-m', 'nbconvert', 'Recommendations_with_IBM.ipynb'])"
   ]
  }
 ],
 "metadata": {
  "kernelspec": {
   "display_name": "Python 3 (ipykernel)",
   "language": "python",
   "name": "python3"
  },
  "language_info": {
   "codemirror_mode": {
    "name": "ipython",
    "version": 3
   },
   "file_extension": ".py",
   "mimetype": "text/x-python",
   "name": "python",
   "nbconvert_exporter": "python",
   "pygments_lexer": "ipython3",
   "version": "3.10.13"
  }
 },
 "nbformat": 4,
 "nbformat_minor": 2
}